{
 "cells": [
  {
   "cell_type": "markdown",
   "metadata": {},
   "source": [
    "# Practical Statistics for Data Scientists\n",
    "## Exploratory Data Analysis"
   ]
  },
  {
   "cell_type": "markdown",
   "metadata": {},
   "source": [
    "This Notebook is the python equivalent of the R code for Chapter-1, from the book <a href=\"http://shop.oreilly.com/product/0636920048992.do\">Practical Statistics for Data Scientists</a> by Peter Bruce and Andrew Bruce. This <a href=\"https://github.com/andrewgbruce/statistics-for-data-scientists\">GitHub</a> repository has the complete R code for the book.\n",
    "\n",
    "The authors note that the aim of the book is to be a \"Desk Reference\" for key Statistical concepts that are relevant to Data Science, explaining their importance and the reason behind that choice.\n",
    "\n",
    "Data that is used in the book, has been curated by the authors and made available on <a href=\"https://drive.google.com/drive/folders/0B98qpkK5EJemYnJ1ajA1ZVJwMzg\">Google Drive</a> and <a href=\"https://www.dropbox.com/sh/clb5aiswr7ar0ci/AABBNwTcTNey2ipoSw_kH5gra?dl=0\">Dropbox</a>\n",
    "\n",
    "<b>NOTE:</b>\n",
    "The data for creating the Contingency Table has been downloaded from the Lending Club <a href=\" https://www.lendingclub.com/info/download-data.action\">website</a> for the year 2007-2011. Please see the screenshot\n",
    "<img src=\"../img/lending_club.png\" height=200, width=400></img>\n"
   ]
  },
  {
   "cell_type": "code",
   "execution_count": 62,
   "metadata": {
    "collapsed": true
   },
   "outputs": [],
   "source": [
    "import numpy as np\n",
    "import pandas as pd\n"
   ]
  },
  {
   "cell_type": "code",
   "execution_count": 63,
   "metadata": {
    "scrolled": true
   },
   "outputs": [],
   "source": [
    "# Read the data from a .csv file\n",
    "# This file is a modified version of the original\n",
    "# CSV file from the Lending Club website. It just has\n",
    "# grade, sub_grade and loan_status columns\n",
    "\n",
    "loanDataDF = pd.read_csv(\"../data/lc_Stats_2007_2011.csv\")\n",
    "\n"
   ]
  },
  {
   "cell_type": "code",
   "execution_count": 64,
   "metadata": {},
   "outputs": [
    {
     "data": {
      "text/plain": [
       "pandas.core.frame.DataFrame"
      ]
     },
     "execution_count": 64,
     "metadata": {},
     "output_type": "execute_result"
    }
   ],
   "source": [
    "# Check the type of data structure, holding the data\n",
    "type(loanDataDF)"
   ]
  },
  {
   "cell_type": "code",
   "execution_count": 65,
   "metadata": {},
   "outputs": [
    {
     "data": {
      "text/html": [
       "<div>\n",
       "<style>\n",
       "    .dataframe thead tr:only-child th {\n",
       "        text-align: right;\n",
       "    }\n",
       "\n",
       "    .dataframe thead th {\n",
       "        text-align: left;\n",
       "    }\n",
       "\n",
       "    .dataframe tbody tr th {\n",
       "        vertical-align: top;\n",
       "    }\n",
       "</style>\n",
       "<table border=\"1\" class=\"dataframe\">\n",
       "  <thead>\n",
       "    <tr style=\"text-align: right;\">\n",
       "      <th></th>\n",
       "      <th>grade</th>\n",
       "      <th>sub_grade</th>\n",
       "      <th>loan_status</th>\n",
       "    </tr>\n",
       "  </thead>\n",
       "  <tbody>\n",
       "    <tr>\n",
       "      <th>0</th>\n",
       "      <td>B</td>\n",
       "      <td>B2</td>\n",
       "      <td>Fully Paid</td>\n",
       "    </tr>\n",
       "    <tr>\n",
       "      <th>1</th>\n",
       "      <td>C</td>\n",
       "      <td>C4</td>\n",
       "      <td>Charged Off</td>\n",
       "    </tr>\n",
       "    <tr>\n",
       "      <th>2</th>\n",
       "      <td>C</td>\n",
       "      <td>C5</td>\n",
       "      <td>Fully Paid</td>\n",
       "    </tr>\n",
       "    <tr>\n",
       "      <th>3</th>\n",
       "      <td>C</td>\n",
       "      <td>C1</td>\n",
       "      <td>Fully Paid</td>\n",
       "    </tr>\n",
       "    <tr>\n",
       "      <th>4</th>\n",
       "      <td>B</td>\n",
       "      <td>B5</td>\n",
       "      <td>Fully Paid</td>\n",
       "    </tr>\n",
       "    <tr>\n",
       "      <th>5</th>\n",
       "      <td>A</td>\n",
       "      <td>A4</td>\n",
       "      <td>Fully Paid</td>\n",
       "    </tr>\n",
       "    <tr>\n",
       "      <th>6</th>\n",
       "      <td>C</td>\n",
       "      <td>C5</td>\n",
       "      <td>Fully Paid</td>\n",
       "    </tr>\n",
       "    <tr>\n",
       "      <th>7</th>\n",
       "      <td>E</td>\n",
       "      <td>E1</td>\n",
       "      <td>Fully Paid</td>\n",
       "    </tr>\n",
       "    <tr>\n",
       "      <th>8</th>\n",
       "      <td>F</td>\n",
       "      <td>F2</td>\n",
       "      <td>Charged Off</td>\n",
       "    </tr>\n",
       "    <tr>\n",
       "      <th>9</th>\n",
       "      <td>B</td>\n",
       "      <td>B5</td>\n",
       "      <td>Charged Off</td>\n",
       "    </tr>\n",
       "  </tbody>\n",
       "</table>\n",
       "</div>"
      ],
      "text/plain": [
       "  grade sub_grade  loan_status\n",
       "0     B        B2   Fully Paid\n",
       "1     C        C4  Charged Off\n",
       "2     C        C5   Fully Paid\n",
       "3     C        C1   Fully Paid\n",
       "4     B        B5   Fully Paid\n",
       "5     A        A4   Fully Paid\n",
       "6     C        C5   Fully Paid\n",
       "7     E        E1   Fully Paid\n",
       "8     F        F2  Charged Off\n",
       "9     B        B5  Charged Off"
      ]
     },
     "execution_count": 65,
     "metadata": {},
     "output_type": "execute_result"
    }
   ],
   "source": [
    "# Top 10 rows/records of the data\n",
    "loanDataDF.head(10)"
   ]
  },
  {
   "cell_type": "code",
   "execution_count": 66,
   "metadata": {},
   "outputs": [
    {
     "data": {
      "text/html": [
       "<div>\n",
       "<style>\n",
       "    .dataframe thead tr:only-child th {\n",
       "        text-align: right;\n",
       "    }\n",
       "\n",
       "    .dataframe thead th {\n",
       "        text-align: left;\n",
       "    }\n",
       "\n",
       "    .dataframe tbody tr th {\n",
       "        vertical-align: top;\n",
       "    }\n",
       "</style>\n",
       "<table border=\"1\" class=\"dataframe\">\n",
       "  <thead>\n",
       "    <tr style=\"text-align: right;\">\n",
       "      <th></th>\n",
       "      <th>grade</th>\n",
       "      <th>sub_grade</th>\n",
       "      <th>loan_status</th>\n",
       "    </tr>\n",
       "  </thead>\n",
       "  <tbody>\n",
       "    <tr>\n",
       "      <th>42528</th>\n",
       "      <td>C</td>\n",
       "      <td>C4</td>\n",
       "      <td>Does not meet the credit policy. Status:Fully ...</td>\n",
       "    </tr>\n",
       "    <tr>\n",
       "      <th>42529</th>\n",
       "      <td>B</td>\n",
       "      <td>B2</td>\n",
       "      <td>Does not meet the credit policy. Status:Fully ...</td>\n",
       "    </tr>\n",
       "    <tr>\n",
       "      <th>42530</th>\n",
       "      <td>B</td>\n",
       "      <td>B3</td>\n",
       "      <td>Does not meet the credit policy. Status:Fully ...</td>\n",
       "    </tr>\n",
       "    <tr>\n",
       "      <th>42531</th>\n",
       "      <td>B</td>\n",
       "      <td>B5</td>\n",
       "      <td>Does not meet the credit policy. Status:Fully ...</td>\n",
       "    </tr>\n",
       "    <tr>\n",
       "      <th>42532</th>\n",
       "      <td>B</td>\n",
       "      <td>B4</td>\n",
       "      <td>Does not meet the credit policy. Status:Charge...</td>\n",
       "    </tr>\n",
       "    <tr>\n",
       "      <th>42533</th>\n",
       "      <td>C</td>\n",
       "      <td>C1</td>\n",
       "      <td>Does not meet the credit policy. Status:Fully ...</td>\n",
       "    </tr>\n",
       "    <tr>\n",
       "      <th>42534</th>\n",
       "      <td>B</td>\n",
       "      <td>B4</td>\n",
       "      <td>Does not meet the credit policy. Status:Fully ...</td>\n",
       "    </tr>\n",
       "    <tr>\n",
       "      <th>42535</th>\n",
       "      <td>B</td>\n",
       "      <td>B3</td>\n",
       "      <td>Does not meet the credit policy. Status:Fully ...</td>\n",
       "    </tr>\n",
       "    <tr>\n",
       "      <th>42536</th>\n",
       "      <td>A</td>\n",
       "      <td>A5</td>\n",
       "      <td>Does not meet the credit policy. Status:Fully ...</td>\n",
       "    </tr>\n",
       "    <tr>\n",
       "      <th>42537</th>\n",
       "      <td>A</td>\n",
       "      <td>A3</td>\n",
       "      <td>Does not meet the credit policy. Status:Fully ...</td>\n",
       "    </tr>\n",
       "  </tbody>\n",
       "</table>\n",
       "</div>"
      ],
      "text/plain": [
       "      grade sub_grade                                        loan_status\n",
       "42528     C        C4  Does not meet the credit policy. Status:Fully ...\n",
       "42529     B        B2  Does not meet the credit policy. Status:Fully ...\n",
       "42530     B        B3  Does not meet the credit policy. Status:Fully ...\n",
       "42531     B        B5  Does not meet the credit policy. Status:Fully ...\n",
       "42532     B        B4  Does not meet the credit policy. Status:Charge...\n",
       "42533     C        C1  Does not meet the credit policy. Status:Fully ...\n",
       "42534     B        B4  Does not meet the credit policy. Status:Fully ...\n",
       "42535     B        B3  Does not meet the credit policy. Status:Fully ...\n",
       "42536     A        A5  Does not meet the credit policy. Status:Fully ...\n",
       "42537     A        A3  Does not meet the credit policy. Status:Fully ..."
      ]
     },
     "execution_count": 66,
     "metadata": {},
     "output_type": "execute_result"
    }
   ],
   "source": [
    "# Bottom 10 rows/records of the data\n",
    "loanDataDF.tail(10)"
   ]
  },
  {
   "cell_type": "code",
   "execution_count": 67,
   "metadata": {},
   "outputs": [
    {
     "data": {
      "text/plain": [
       "grade          object\n",
       "sub_grade      object\n",
       "loan_status    object\n",
       "dtype: object"
      ]
     },
     "execution_count": 67,
     "metadata": {},
     "output_type": "execute_result"
    }
   ],
   "source": [
    "# Get the data types of feature/attributes in the data\n",
    "loanDataDF.dtypes"
   ]
  },
  {
   "cell_type": "markdown",
   "metadata": {},
   "source": [
    "<br>"
   ]
  },
  {
   "cell_type": "markdown",
   "metadata": {},
   "source": [
    "## Two Variables - Both Categorical"
   ]
  },
  {
   "cell_type": "markdown",
   "metadata": {},
   "source": [
    "### Contingency Table"
   ]
  },
  {
   "cell_type": "code",
   "execution_count": 70,
   "metadata": {
    "collapsed": true
   },
   "outputs": [],
   "source": [
    "loanDataCrossTab = pd.crosstab(loanDataDF['grade'], loanDataDF['loan_status'], margins=True)"
   ]
  },
  {
   "cell_type": "code",
   "execution_count": 71,
   "metadata": {},
   "outputs": [
    {
     "name": "stdout",
     "output_type": "stream",
     "text": [
      "loan_status  Charged Off  Does not meet the credit policy. Status:Charged Off  \\\n",
      "grade                                                                           \n",
      "A                    602                                                  8     \n",
      "B                   1433                                                 85     \n",
      "C                   1356                                                148     \n",
      "D                   1130                                                197     \n",
      "E                    725                                                158     \n",
      "F                    323                                                 93     \n",
      "G                    101                                                 72     \n",
      "All                 5670                                                761     \n",
      "\n",
      "loan_status  Does not meet the credit policy. Status:Fully Paid  Fully Paid  \\\n",
      "grade                                                                         \n",
      "A                                                           90         9483   \n",
      "B                                                          269        10602   \n",
      "C                                                          481         6755   \n",
      "D                                                          494         4195   \n",
      "E                                                          378         2133   \n",
      "F                                                          154          731   \n",
      "G                                                          122          217   \n",
      "All                                                       1988        34116   \n",
      "\n",
      "loan_status    All  \n",
      "grade               \n",
      "A            10183  \n",
      "B            12389  \n",
      "C             8740  \n",
      "D             6016  \n",
      "E             3394  \n",
      "F             1301  \n",
      "G              512  \n",
      "All          42535  \n"
     ]
    }
   ],
   "source": [
    "print(loanDataCrossTab)"
   ]
  },
  {
   "cell_type": "markdown",
   "metadata": {},
   "source": [
    "<b>NOTE:</b><br>\n",
    "The column in the Contingency Table that has the “Does not meet the credit policy” wording, represent loans that were funded by investors and issued by Lending Club, prior to 2010, but that would not qualify for listing today.<br>\n",
    "\n",
    "The grade categories range from A to G, A being the \"lowest risk\", with F & G being the \"high risk\", in terms of paying off the loan.  A loan becomes “charged off” when there is no longer a reasonable expectation of further payments. Charge off typically occurs when a loan is no later than 150 days past due.\n"
   ]
  },
  {
   "cell_type": "markdown",
   "metadata": {},
   "source": [
    "<br>"
   ]
  }
 ],
 "metadata": {
  "kernelspec": {
   "display_name": "Python 3",
   "language": "python",
   "name": "python3"
  },
  "language_info": {
   "codemirror_mode": {
    "name": "ipython",
    "version": 3
   },
   "file_extension": ".py",
   "mimetype": "text/x-python",
   "name": "python",
   "nbconvert_exporter": "python",
   "pygments_lexer": "ipython3",
   "version": "3.6.2"
  }
 },
 "nbformat": 4,
 "nbformat_minor": 2
}
