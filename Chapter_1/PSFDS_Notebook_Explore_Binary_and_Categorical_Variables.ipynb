{
 "cells": [
  {
   "cell_type": "markdown",
   "metadata": {},
   "source": [
    "# Practical Statistics for Data Scientists\n",
    "## Exploratory Data Analysis"
   ]
  },
  {
   "cell_type": "markdown",
   "metadata": {},
   "source": [
    "This Notebook is the python equivalent of the R code for Chapter-1, from the book <a href=\"http://shop.oreilly.com/product/0636920048992.do\">Practical Statistics for Data Scientists</a> by Peter Bruce and Andrew Bruce. This <a href=\"https://github.com/andrewgbruce/statistics-for-data-scientists\">GitHub</a> repository has the complete R code for the book.\n",
    "\n",
    "The authors note that the aim of the book is to be a \"Desk Reference\" for key Statistical concepts that are relevant to Data Science, explaining their importance and the reason behind that choice.\n",
    "\n",
    "Data that is used in the book, has been curated by the authors and made available on <a href=\"https://drive.google.com/drive/folders/0B98qpkK5EJemYnJ1ajA1ZVJwMzg\">Google Drive</a> and <a href=\"https://www.dropbox.com/sh/clb5aiswr7ar0ci/AABBNwTcTNey2ipoSw_kH5gra?dl=0\">Dropbox</a>\n"
   ]
  },
  {
   "cell_type": "code",
   "execution_count": 2,
   "metadata": {
    "collapsed": true
   },
   "outputs": [],
   "source": [
    "import numpy as np\n",
    "import pandas as pd\n",
    "import seaborn as sns\n",
    "import matplotlib.pyplot as plt\n",
    "\n",
    "\n",
    "from scipy.stats import trim_mean"
   ]
  },
  {
   "cell_type": "code",
   "execution_count": 3,
   "metadata": {
    "collapsed": true
   },
   "outputs": [],
   "source": [
    "# Read the data from a .csv file\n",
    "airlineDelaysDF = pd.read_csv(\"../data/dfw_airline.csv\")"
   ]
  },
  {
   "cell_type": "markdown",
   "metadata": {},
   "source": [
    "A variable is considered to be categorical, if each observation belongs to one of a set of distinct categories. Weather forecast describing cloud cover (with categories cloudy, partly cloudy, sunny) or a person's birth continent (with categories Africa, America, Antartica, Asia, Australia, Europe) are a couple of examples.\n",
    "\n",
    "However, in certain applications, each observation is binary - that is having one of two possible outcomes.\n",
    "\n",
    "Example:\n",
    "A person may\n",
    "<ul style=\"margin-left:15px;\">\n",
    "            <li>accept or decline, an offer from a bank for a credit card</li>\n",
    "            <li>opt-in or opt-out, of health insurance</li>\n",
    "            <li>vote yes or no in a bond-election, to provide additional funds for city development</li>\n",
    "</ul>"
   ]
  },
  {
   "cell_type": "markdown",
   "metadata": {},
   "source": [
    "### BarPlot - Categorical Variables"
   ]
  },
  {
   "cell_type": "code",
   "execution_count": 4,
   "metadata": {},
   "outputs": [
    {
     "data": {
      "text/html": [
       "<div>\n",
       "<style>\n",
       "    .dataframe thead tr:only-child th {\n",
       "        text-align: right;\n",
       "    }\n",
       "\n",
       "    .dataframe thead th {\n",
       "        text-align: left;\n",
       "    }\n",
       "\n",
       "    .dataframe tbody tr th {\n",
       "        vertical-align: top;\n",
       "    }\n",
       "</style>\n",
       "<table border=\"1\" class=\"dataframe\">\n",
       "  <thead>\n",
       "    <tr style=\"text-align: right;\">\n",
       "      <th></th>\n",
       "      <th>Carrier</th>\n",
       "      <th>ATC</th>\n",
       "      <th>Weather</th>\n",
       "      <th>Security</th>\n",
       "      <th>Inbound</th>\n",
       "    </tr>\n",
       "  </thead>\n",
       "  <tbody>\n",
       "    <tr>\n",
       "      <th>0</th>\n",
       "      <td>64263.16</td>\n",
       "      <td>84856.5</td>\n",
       "      <td>11235.42</td>\n",
       "      <td>343.15</td>\n",
       "      <td>118427.82</td>\n",
       "    </tr>\n",
       "  </tbody>\n",
       "</table>\n",
       "</div>"
      ],
      "text/plain": [
       "    Carrier      ATC   Weather  Security    Inbound\n",
       "0  64263.16  84856.5  11235.42    343.15  118427.82"
      ]
     },
     "execution_count": 4,
     "metadata": {},
     "output_type": "execute_result"
    }
   ],
   "source": [
    "airlineDelaysDF.head(10)"
   ]
  },
  {
   "cell_type": "code",
   "execution_count": 5,
   "metadata": {
    "collapsed": true
   },
   "outputs": [],
   "source": [
    "headerList = []\n",
    "headerList = list(airlineDelaysDF)"
   ]
  },
  {
   "cell_type": "code",
   "execution_count": 6,
   "metadata": {
    "collapsed": true
   },
   "outputs": [],
   "source": [
    "flightDelays =[]\n",
    "flightDelays = airlineDelaysDF.values.tolist()[0]"
   ]
  },
  {
   "cell_type": "code",
   "execution_count": 7,
   "metadata": {
    "collapsed": true
   },
   "outputs": [],
   "source": [
    "myScale = 6 #change the scale of the flight delays\n",
    "scaledFlightDelay = [i/myScale for i in flightDelays]"
   ]
  },
  {
   "cell_type": "code",
   "execution_count": 10,
   "metadata": {},
   "outputs": [
    {
     "data": {
      "image/png": "[encoded data removed]",
      "text/plain": [
       "<matplotlib.figure.Figure at 0x7f0269c8bcc0>"
      ]
     },
     "metadata": {},
     "output_type": "display_data"
    }
   ],
   "source": [
    "y_pos = np.arange(len(headerList))\n",
    "\n",
    "plt.figure(figsize=(10, 8))\n",
    "\n",
    "plt.bar(y_pos, scaledFlightDelay, align='center', alpha=0.5)\n",
    "plt.xticks(y_pos,headerList )\n",
    "plt.xlabel('Delay Causes', fontsize=14)\n",
    "plt.ylabel('Delays scaled down 1/6th', fontsize=14)\n",
    "plt.title('Bar Plot: Cause of Airline Delays at DFW, since 2010', fontsize=18)\n",
    " \n",
    "plt.show()"
   ]
  },
  {
   "cell_type": "markdown",
   "metadata": {},
   "source": [
    "### NOTE"
   ]
  },
  {
   "cell_type": "markdown",
   "metadata": {},
   "source": [
    "The Authors have briefly touched on <b>Mode</b> and <b>Expected Value</b> in the book.\n",
    "\n",
    "If the distribution has a single mound or peak, the distribution is called unimodal, and the value that occurs most often is called the mode."
   ]
  },
  {
   "cell_type": "markdown",
   "metadata": {},
   "source": [
    "Expected value is the sum of values times their probability of occurrence, often used to sum up factor variable levels."
   ]
  }
 ],
 "metadata": {
  "kernelspec": {
   "display_name": "Python 3",
   "language": "python",
   "name": "python3"
  },
  "language_info": {
   "codemirror_mode": {
    "name": "ipython",
    "version": 3
   },
   "file_extension": ".py",
   "mimetype": "text/x-python",
   "name": "python",
   "nbconvert_exporter": "python",
   "pygments_lexer": "ipython3",
   "version": "3.6.2"
  }
 },
 "nbformat": 4,
 "nbformat_minor": 2
}
